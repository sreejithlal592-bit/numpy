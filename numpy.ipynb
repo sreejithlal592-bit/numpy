{
  "nbformat": 4,
  "nbformat_minor": 0,
  "metadata": {
    "colab": {
      "provenance": [],
      "authorship_tag": "ABX9TyOesW9duYgDVmhAVQ2fyGKw",
      "include_colab_link": true
    },
    "kernelspec": {
      "name": "python3",
      "display_name": "Python 3"
    },
    "language_info": {
      "name": "python"
    }
  },
  "cells": [
    {
      "cell_type": "markdown",
      "metadata": {
        "id": "view-in-github",
        "colab_type": "text"
      },
      "source": [
        "<a href=\"https://colab.research.google.com/github/sreejithlal592-bit/numpy/blob/main/numpy.ipynb\" target=\"_parent\"><img src=\"https://colab.research.google.com/assets/colab-badge.svg\" alt=\"Open In Colab\"/></a>"
      ]
    },
    {
      "cell_type": "code",
      "execution_count": null,
      "metadata": {
        "colab": {
          "base_uri": "https://localhost:8080/"
        },
        "id": "bJQqNChCFDGg",
        "outputId": "e205f290-1617-4e27-b914-506459347183"
      },
      "outputs": [
        {
          "output_type": "stream",
          "name": "stdout",
          "text": [
            "['1' '2' '3.9' '4' 'a']\n"
          ]
        }
      ],
      "source": [
        "  import numpy as np #numericak python\n",
        "#array\n",
        "a=np.array([1,2,3.9,4,\"a\"])\n",
        "print(a)"
      ]
    },
    {
      "cell_type": "code",
      "source": [
        "b=np.array([1,2,3,4,5])\n",
        "print(b[0:2])\n",
        "print(b[-1:-3:-1])\n",
        "print(b[3:])\n",
        "print(b[-4::-1])"
      ],
      "metadata": {
        "colab": {
          "base_uri": "https://localhost:8080/"
        },
        "id": "eDijxBooIP7D",
        "outputId": "29e07b1f-9619-4247-e5bf-13de5f0bb1fc"
      },
      "execution_count": null,
      "outputs": [
        {
          "output_type": "stream",
          "name": "stdout",
          "text": [
            "[1 2]\n",
            "[5 4]\n",
            "[4 5]\n",
            "[2 1]\n"
          ]
        }
      ]
    },
    {
      "cell_type": "code",
      "source": [
        "#dimension\n",
        "a=np.array([0,2,3,4,5])\n",
        "b=np.array([[1,3,2],[3,4,4],[2,4,4]])\n",
        "a.ndim\n",
        "b.ndim\n",
        "print(b)\n",
        "b.shape"
      ],
      "metadata": {
        "colab": {
          "base_uri": "https://localhost:8080/"
        },
        "id": "iZvptfA6JNvM",
        "outputId": "3e70bb93-693c-4ef9-f7d0-a7360a710529"
      },
      "execution_count": null,
      "outputs": [
        {
          "output_type": "stream",
          "name": "stdout",
          "text": [
            "[[1 3 2]\n",
            " [3 4 4]\n",
            " [2 4 4]]\n"
          ]
        },
        {
          "output_type": "execute_result",
          "data": {
            "text/plain": [
              "(3, 3)"
            ]
          },
          "metadata": {},
          "execution_count": 22
        }
      ]
    },
    {
      "cell_type": "code",
      "source": [
        "#create a 2x2 metrix"
      ],
      "metadata": {
        "id": "mMC9dXlmKb5X"
      },
      "execution_count": null,
      "outputs": []
    },
    {
      "cell_type": "code",
      "source": [
        "a=np.array([[2,3],[4,5]])\n",
        "\n",
        "print(a)\n",
        "print(a.shape)#to check shape of metix\n",
        "print(a.ndim)\n",
        "print(a.size)#to check size/total elements in metrix"
      ],
      "metadata": {
        "colab": {
          "base_uri": "https://localhost:8080/"
        },
        "id": "vCy2nCQDKjFh",
        "outputId": "7564c484-5ba3-44e1-aac5-d16ccb808993"
      },
      "execution_count": null,
      "outputs": [
        {
          "output_type": "stream",
          "name": "stdout",
          "text": [
            "[[2 3]\n",
            " [4 5]]\n",
            "(2, 2)\n",
            "2\n",
            "4\n"
          ]
        }
      ]
    },
    {
      "cell_type": "code",
      "source": [
        "#2x3 matrix"
      ],
      "metadata": {
        "id": "_UXdDs0DLa2U"
      },
      "execution_count": null,
      "outputs": []
    },
    {
      "cell_type": "code",
      "source": [
        "y=np.array([[2,4,3],[3,5,5],])\n",
        "print(y)\n",
        "print(y.size)\n",
        "print(y.ndim)\n",
        "print(y.shape)"
      ],
      "metadata": {
        "colab": {
          "base_uri": "https://localhost:8080/"
        },
        "id": "T1hOK5QKLh1C",
        "outputId": "5cefc5de-87cf-47f9-a189-e1123c2b18be"
      },
      "execution_count": null,
      "outputs": [
        {
          "output_type": "stream",
          "name": "stdout",
          "text": [
            "[[2 4 3]\n",
            " [3 5 5]\n",
            " [2 3 4]]\n",
            "9\n",
            "2\n",
            "(3, 3)\n"
          ]
        }
      ]
    },
    {
      "cell_type": "code",
      "source": [
        "m=np.array([[2,3],[4,3],[3,4],[5,5]])\n",
        "print(m)\n",
        "print(m.size)\n",
        "print(m.ndim)\n",
        "print(m.shape)"
      ],
      "metadata": {
        "colab": {
          "base_uri": "https://localhost:8080/"
        },
        "id": "_RD6pyaTMdf7",
        "outputId": "be9b438f-fb7a-49b7-f179-a541d6b8a616"
      },
      "execution_count": null,
      "outputs": [
        {
          "output_type": "stream",
          "name": "stdout",
          "text": [
            "[[2 3]\n",
            " [4 3]\n",
            " [3 4]\n",
            " [5 5]]\n",
            "8\n",
            "2\n",
            "(4, 2)\n"
          ]
        }
      ]
    },
    {
      "cell_type": "code",
      "source": [
        "import numpy as np\n",
        "m=np.array([[2,8,9,3],[4,1,7,3],[3,9,0,4],[5,1,5,5]])\n",
        "print(m)\n",
        "print(m.size)\n",
        "print(m.ndim)\n",
        "print(m.shape)\n"
      ],
      "metadata": {
        "colab": {
          "base_uri": "https://localhost:8080/",
          "height": 106
        },
        "id": "mSPqlT2NNbT4",
        "outputId": "d2fce0d9-7f0a-4fe9-ce5a-20333db941b8"
      },
      "execution_count": null,
      "outputs": [
        {
          "output_type": "error",
          "ename": "SyntaxError",
          "evalue": "invalid syntax (ipython-input-2125328865.py, line 7)",
          "traceback": [
            "\u001b[0;36m  File \u001b[0;32m\"/tmp/ipython-input-2125328865.py\"\u001b[0;36m, line \u001b[0;32m7\u001b[0m\n\u001b[0;31m    1 z[0]\u001b[0m\n\u001b[0m      ^\u001b[0m\n\u001b[0;31mSyntaxError\u001b[0m\u001b[0;31m:\u001b[0m invalid syntax\n"
          ]
        }
      ]
    },
    {
      "cell_type": "code",
      "source": [
        "z=np.array([[0,1,2,3],[2,9,3,4],[3,8,5,6],[2,1,5,7]])\n",
        "print(z)\n",
        "print(z[0])\n",
        "print(z[:,0])\n",
        "print(z[3,2:])\n",
        "print(z[2:,2:])\n",
        "print(z[1:3,3])\n",
        "print(z[1:3,0:3])"
      ],
      "metadata": {
        "colab": {
          "base_uri": "https://localhost:8080/"
        },
        "id": "0K8pjw_MFgcg",
        "outputId": "13f5a53e-0bd5-475b-81f4-06958099997c"
      },
      "execution_count": null,
      "outputs": [
        {
          "output_type": "stream",
          "name": "stdout",
          "text": [
            "[[0 1 2 3]\n",
            " [2 9 3 4]\n",
            " [3 8 5 6]\n",
            " [2 1 5 7]]\n",
            "[0 1 2 3]\n",
            "[0 2 3 2]\n",
            "[5 7]\n",
            "[[5 6]\n",
            " [5 7]]\n",
            "[4 6]\n",
            "[[2 9 3]\n",
            " [3 8 5]]\n"
          ]
        }
      ]
    },
    {
      "cell_type": "code",
      "source": [
        "#zero metrix\n",
        "z=np.zeros([2,3,3],dtype=int)\n",
        "print(z)"
      ],
      "metadata": {
        "colab": {
          "base_uri": "https://localhost:8080/"
        },
        "id": "BFW-oHKNF4yk",
        "outputId": "ae86a251-a76c-4663-88d6-fa44866ed143"
      },
      "execution_count": null,
      "outputs": [
        {
          "output_type": "stream",
          "name": "stdout",
          "text": [
            "[[[0 0 0]\n",
            "  [0 0 0]\n",
            "  [0 0 0]]\n",
            "\n",
            " [[0 0 0]\n",
            "  [0 0 0]\n",
            "  [0 0 0]]]\n"
          ]
        }
      ]
    },
    {
      "cell_type": "code",
      "source": [
        "z=np.ones([3,3],dtype=int)\n",
        "print(z)"
      ],
      "metadata": {
        "colab": {
          "base_uri": "https://localhost:8080/"
        },
        "id": "vd2msLzmKghH",
        "outputId": "ee7796a4-eb38-4c46-feca-4b6a844d4d21"
      },
      "execution_count": null,
      "outputs": [
        {
          "output_type": "stream",
          "name": "stdout",
          "text": [
            "[[1 1 1]\n",
            " [1 1 1]\n",
            " [1 1 1]]\n"
          ]
        }
      ]
    },
    {
      "cell_type": "code",
      "source": [
        "#cret two 2x2 metrix\n",
        "a=np.array([[2,3],[3,4]])\n",
        "b=np.array([[5,2],[9,4]])\n",
        "b.shape\n",
        "print(a)\n",
        "print(b)\n",
        "#metrix addition\n",
        "print(a+b)\n",
        "#metrix sub\n",
        "print(a-b)\n",
        "#metrix multiplication\n",
        "print(a*b)#not matrix multipilcation\n",
        "print(a@b)#matrix multiplication\n",
        "print(a.dot(b))#matrix multiplication\n",
        "#metrix division\n",
        "print(a/b)\n",
        "#\"magic\"= starting with undercores eg __add__\n",
        "\n"
      ],
      "metadata": {
        "colab": {
          "base_uri": "https://localhost:8080/"
        },
        "id": "UZnSpznzKwkw",
        "outputId": "2aaca2f9-c8ff-4455-cc88-3515c92889d6"
      },
      "execution_count": null,
      "outputs": [
        {
          "output_type": "stream",
          "name": "stdout",
          "text": [
            "[[2 3]\n",
            " [3 4]]\n",
            "[[5 2]\n",
            " [9 4]]\n",
            "[[ 7  5]\n",
            " [12  8]]\n",
            "[[-3  1]\n",
            " [-6  0]]\n",
            "[[10  6]\n",
            " [27 16]]\n",
            "[[37 16]\n",
            " [51 22]]\n",
            "[[37 16]\n",
            " [51 22]]\n",
            "[[0.4        1.5       ]\n",
            " [0.33333333 1.        ]]\n"
          ]
        }
      ]
    },
    {
      "cell_type": "code",
      "source": [
        "#full matrix\n",
        "z=np.full([3,3],5,dtype=int)\n",
        "print(z)"
      ],
      "metadata": {
        "colab": {
          "base_uri": "https://localhost:8080/"
        },
        "id": "SK9ExiICN_BC",
        "outputId": "07cc7f34-809b-45d4-e616-de74c8db6f90"
      },
      "execution_count": null,
      "outputs": [
        {
          "output_type": "stream",
          "name": "stdout",
          "text": [
            "[[5 5 5]\n",
            " [5 5 5]\n",
            " [5 5 5]]\n"
          ]
        }
      ]
    },
    {
      "cell_type": "code",
      "source": [
        "#create a 3x3 metriz with value 9 with complex data type\n",
        "z=np.full([3,4],9,dtype=complex)\n",
        "print(z)\n"
      ],
      "metadata": {
        "colab": {
          "base_uri": "https://localhost:8080/"
        },
        "id": "z4dsEcliOaZi",
        "outputId": "e28b8f3a-64d6-452f-f968-4b4078614fe4"
      },
      "execution_count": null,
      "outputs": [
        {
          "output_type": "stream",
          "name": "stdout",
          "text": [
            "[[9.+0.j 9.+0.j 9.+0.j 9.+0.j]\n",
            " [9.+0.j 9.+0.j 9.+0.j 9.+0.j]\n",
            " [9.+0.j 9.+0.j 9.+0.j 9.+0.j]]\n"
          ]
        }
      ]
    },
    {
      "cell_type": "code",
      "source": [
        "#identity metrix\n",
        "z=np.identity(3,dtype=int)#method 1 to identity metrix\n",
        "print(z)\n",
        "\n",
        "z=np.eye(3)#method 2 to identity metrix\n",
        "z"
      ],
      "metadata": {
        "colab": {
          "base_uri": "https://localhost:8080/"
        },
        "id": "ZS6e4hVqO7Wt",
        "outputId": "e9853988-d33a-4d39-d1ec-d8929195f282"
      },
      "execution_count": null,
      "outputs": [
        {
          "output_type": "stream",
          "name": "stdout",
          "text": [
            "[[1 0 0]\n",
            " [0 1 0]\n",
            " [0 0 1]]\n"
          ]
        },
        {
          "output_type": "execute_result",
          "data": {
            "text/plain": [
              "array([[1., 0., 0.],\n",
              "       [0., 1., 0.],\n",
              "       [0., 0., 1.]])"
            ]
          },
          "metadata": {},
          "execution_count": 49
        }
      ]
    },
    {
      "cell_type": "code",
      "source": [
        "m=np.array([[2,2,2,2],[3,3,3,3],[4,4,4,4],[5,5,5,5]])\n",
        "print(m)\n",
        "print(m.size)\n",
        "a=m.reshape(4,4)\n",
        "print(a)"
      ],
      "metadata": {
        "colab": {
          "base_uri": "https://localhost:8080/"
        },
        "id": "M_q7VVtwQujc",
        "outputId": "6d59029f-18a8-4df0-f6ec-c06872668457"
      },
      "execution_count": null,
      "outputs": [
        {
          "output_type": "stream",
          "name": "stdout",
          "text": [
            "[[2 2 2 2]\n",
            " [3 3 3 3]\n",
            " [4 4 4 4]\n",
            " [5 5 5 5]]\n",
            "16\n",
            "[[2 2 2 2]\n",
            " [3 3 3 3]\n",
            " [4 4 4 4]\n",
            " [5 5 5 5]]\n"
          ]
        }
      ]
    },
    {
      "cell_type": "code",
      "source": [
        "#arange\n",
        "a=np.arange(1,10,2)\n",
        "print(a)"
      ],
      "metadata": {
        "colab": {
          "base_uri": "https://localhost:8080/"
        },
        "id": "Zs_m4UtHSFZg",
        "outputId": "4830660e-3074-4845-b743-692ad1b2966e"
      },
      "execution_count": null,
      "outputs": [
        {
          "output_type": "stream",
          "name": "stdout",
          "text": [
            "[1 3 5 7 9]\n"
          ]
        }
      ]
    },
    {
      "cell_type": "code",
      "source": [
        "k=np.arange(1,11)\n",
        "a=k.reshape(5,2)\n",
        "print(a)\n",
        "print(k)"
      ],
      "metadata": {
        "colab": {
          "base_uri": "https://localhost:8080/"
        },
        "id": "Rh2P95T9SkBe",
        "outputId": "bd6c6621-2b44-49ce-d74e-479c94da6698"
      },
      "execution_count": null,
      "outputs": [
        {
          "output_type": "stream",
          "name": "stdout",
          "text": [
            "[[ 1  2]\n",
            " [ 3  4]\n",
            " [ 5  6]\n",
            " [ 7  8]\n",
            " [ 9 10]]\n",
            "[ 1  2  3  4  5  6  7  8  9 10]\n"
          ]
        }
      ]
    },
    {
      "cell_type": "code",
      "source": [
        "a=np.array([[2.5,3.6,3.5],[1.5,1.8,2.9],[1.4,1.6,1.1]])\n",
        "print(a)\n",
        "z=np.floor(a)#floor\n",
        "z\n",
        "#ceil\n",
        "h=np.ceil(a)\n",
        "h\n",
        "#round\n",
        "n=np.round(a)\n",
        "n"
      ],
      "metadata": {
        "colab": {
          "base_uri": "https://localhost:8080/"
        },
        "id": "-_7_E9iwTL7M",
        "outputId": "7a6f70ee-a6e9-48b9-89a0-e509f42df05b"
      },
      "execution_count": null,
      "outputs": [
        {
          "output_type": "stream",
          "name": "stdout",
          "text": [
            "[[2.5 3.6 3.5]\n",
            " [1.5 1.8 2.9]\n",
            " [1.4 1.6 1.1]]\n"
          ]
        },
        {
          "output_type": "execute_result",
          "data": {
            "text/plain": [
              "array([[2., 4., 4.],\n",
              "       [2., 2., 3.],\n",
              "       [1., 2., 1.]])"
            ]
          },
          "metadata": {},
          "execution_count": 69
        }
      ]
    },
    {
      "cell_type": "code",
      "source": [
        "import numpy as np\n",
        "a=np.arange(1,10).reshape(3,3)\n",
        "print(a)\n",
        "a.max()\n",
        "a.max(axis=0)\n",
        "a.sum(axis=0)#sum of columns\n",
        "a.sum(axis=1)#sum of rows\n",
        "print(np.sqrt(a))#to get squareroot of each elements in the metrix\n",
        "print(np.sin(a))#to find sin values of elemments in the metrix\n",
        "print(np.tan(a))#to find tan values of elements in the metrix\n",
        "#flatten\n",
        "a.flatten()# flaten is used to make any dimensional arraay to single/one dimensional\n"
      ],
      "metadata": {
        "colab": {
          "base_uri": "https://localhost:8080/"
        },
        "id": "yVV_m4MqUhF7",
        "outputId": "6c69f42d-db30-4911-89ae-c308d9ba6009"
      },
      "execution_count": null,
      "outputs": [
        {
          "output_type": "stream",
          "name": "stdout",
          "text": [
            "[[1 2 3]\n",
            " [4 5 6]\n",
            " [7 8 9]]\n",
            "[[1.         1.41421356 1.73205081]\n",
            " [2.         2.23606798 2.44948974]\n",
            " [2.64575131 2.82842712 3.        ]]\n",
            "[[ 0.84147098  0.90929743  0.14112001]\n",
            " [-0.7568025  -0.95892427 -0.2794155 ]\n",
            " [ 0.6569866   0.98935825  0.41211849]]\n",
            "[[ 1.55740772 -2.18503986 -0.14254654]\n",
            " [ 1.15782128 -3.38051501 -0.29100619]\n",
            " [ 0.87144798 -6.79971146 -0.45231566]]\n"
          ]
        },
        {
          "output_type": "execute_result",
          "data": {
            "text/plain": [
              "array([1, 2, 3, 4, 5, 6, 7, 8, 9])"
            ]
          },
          "metadata": {},
          "execution_count": 14
        }
      ]
    },
    {
      "cell_type": "code",
      "source": [
        "#sort\n",
        "#create a 3x3 metrix\n",
        "a=np.array([[11,34,22],[5,3,1],[9,2,4]])\n",
        "print(a)\n",
        "b=np.sort(a,axis=1)\n",
        "print(b)\n",
        "c=np.argsort(a,axis=1)\n",
        "print(c)\n",
        "a.flatten()"
      ],
      "metadata": {
        "colab": {
          "base_uri": "https://localhost:8080/"
        },
        "id": "RaXcuZaljXUN",
        "outputId": "be7ab830-c4a2-487a-f142-73dadd58945e"
      },
      "execution_count": null,
      "outputs": [
        {
          "output_type": "stream",
          "name": "stdout",
          "text": [
            "[[11 34 22]\n",
            " [ 5  3  1]\n",
            " [ 9  2  4]]\n",
            "[[11 22 34]\n",
            " [ 1  3  5]\n",
            " [ 2  4  9]]\n",
            "[[0 2 1]\n",
            " [2 1 0]\n",
            " [1 2 0]]\n"
          ]
        },
        {
          "output_type": "execute_result",
          "data": {
            "text/plain": [
              "array([11, 34, 22,  5,  3,  1,  9,  2,  4])"
            ]
          },
          "metadata": {},
          "execution_count": 26
        }
      ]
    }
  ]
}